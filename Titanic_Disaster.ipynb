{
  "nbformat": 4,
  "nbformat_minor": 0,
  "metadata": {
    "colab": {
      "name": "Titanic_Disaster.ipynb",
      "provenance": [],
      "collapsed_sections": [],
      "toc_visible": true,
      "authorship_tag": "ABX9TyOWoEr3rSZl6N466JAgMuOF",
      "include_colab_link": true
    },
    "kernelspec": {
      "name": "python3",
      "display_name": "Python 3"
    }
  },
  "cells": [
    {
      "cell_type": "markdown",
      "metadata": {
        "id": "view-in-github",
        "colab_type": "text"
      },
      "source": [
        "<a href=\"https://colab.research.google.com/github/HAppy149391/Titanic_Disaster/blob/master/Titanic_Disaster.ipynb\" target=\"_parent\"><img src=\"https://colab.research.google.com/assets/colab-badge.svg\" alt=\"Open In Colab\"/></a>"
      ]
    },
    {
      "cell_type": "code",
      "metadata": {
        "id": "L1k0G9XRPEa2",
        "colab_type": "code",
        "colab": {}
      },
      "source": [
        "import pandas as pd\n",
        "import numpy as np\n",
        "import seaborn as sns\n",
        "import matplotlib.pyplot as plt\n",
        "import warnings\n",
        "import math\n",
        "from sklearn.preprocessing import StandardScaler\n",
        "warnings.filterwarnings('ignore')"
      ],
      "execution_count": 9,
      "outputs": []
    },
    {
      "cell_type": "markdown",
      "metadata": {
        "id": "kyqQfw4rAR0z",
        "colab_type": "text"
      },
      "source": [
        "### Loading DataSet's By using pandas read_csv() function"
      ]
    },
    {
      "cell_type": "code",
      "metadata": {
        "id": "0PIG6ApjQk2h",
        "colab_type": "code",
        "colab": {}
      },
      "source": [
        "titanic_train = pd.read_csv('train.csv')\n",
        "titanic_test = pd.read_csv('test.csv')"
      ],
      "execution_count": 10,
      "outputs": []
    },
    {
      "cell_type": "code",
      "metadata": {
        "id": "rjnxzgeYQ8AE",
        "colab_type": "code",
        "colab": {
          "base_uri": "https://localhost:8080/",
          "height": 52
        },
        "outputId": "e678dad1-dd63-46a6-940a-c151b298b3dd"
      },
      "source": [
        "train_length = len(titanic_train)\n",
        "print(titanic_train.shape)\n",
        "print(titanic_test.shape)"
      ],
      "execution_count": 11,
      "outputs": [
        {
          "output_type": "stream",
          "text": [
            "(891, 12)\n",
            "(418, 11)\n"
          ],
          "name": "stdout"
        }
      ]
    },
    {
      "cell_type": "markdown",
      "metadata": {
        "id": "2dp7LiaJfQEL",
        "colab_type": "text"
      },
      "source": [
        "#### Train Data Set has 891 Rows and 12 Columns.\n",
        "#### Test Data Set has 418 Rows and 11 Columns.\n",
        "\n",
        "Bussiness Problem is We do predict testing data Survival Value of Testing Data based on features.\n",
        "\n",
        "* For better prediction first we should understand data and find answers to our questions based on hidden insights of our data"
      ]
    },
    {
      "cell_type": "code",
      "metadata": {
        "id": "-gaApuOklEmt",
        "colab_type": "code",
        "colab": {
          "base_uri": "https://localhost:8080/",
          "height": 341
        },
        "outputId": "8a285a64-75a9-4540-8009-9816668f6bfd"
      },
      "source": [
        "titanic_train.head()"
      ],
      "execution_count": 12,
      "outputs": [
        {
          "output_type": "execute_result",
          "data": {
            "text/html": [
              "<div>\n",
              "<style scoped>\n",
              "    .dataframe tbody tr th:only-of-type {\n",
              "        vertical-align: middle;\n",
              "    }\n",
              "\n",
              "    .dataframe tbody tr th {\n",
              "        vertical-align: top;\n",
              "    }\n",
              "\n",
              "    .dataframe thead th {\n",
              "        text-align: right;\n",
              "    }\n",
              "</style>\n",
              "<table border=\"1\" class=\"dataframe\">\n",
              "  <thead>\n",
              "    <tr style=\"text-align: right;\">\n",
              "      <th></th>\n",
              "      <th>PassengerId</th>\n",
              "      <th>Survived</th>\n",
              "      <th>Pclass</th>\n",
              "      <th>Name</th>\n",
              "      <th>Sex</th>\n",
              "      <th>Age</th>\n",
              "      <th>SibSp</th>\n",
              "      <th>Parch</th>\n",
              "      <th>Ticket</th>\n",
              "      <th>Fare</th>\n",
              "      <th>Cabin</th>\n",
              "      <th>Embarked</th>\n",
              "    </tr>\n",
              "  </thead>\n",
              "  <tbody>\n",
              "    <tr>\n",
              "      <th>0</th>\n",
              "      <td>1</td>\n",
              "      <td>0</td>\n",
              "      <td>3</td>\n",
              "      <td>Braund, Mr. Owen Harris</td>\n",
              "      <td>male</td>\n",
              "      <td>22.0</td>\n",
              "      <td>1</td>\n",
              "      <td>0</td>\n",
              "      <td>A/5 21171</td>\n",
              "      <td>7.2500</td>\n",
              "      <td>NaN</td>\n",
              "      <td>S</td>\n",
              "    </tr>\n",
              "    <tr>\n",
              "      <th>1</th>\n",
              "      <td>2</td>\n",
              "      <td>1</td>\n",
              "      <td>1</td>\n",
              "      <td>Cumings, Mrs. John Bradley (Florence Briggs Th...</td>\n",
              "      <td>female</td>\n",
              "      <td>38.0</td>\n",
              "      <td>1</td>\n",
              "      <td>0</td>\n",
              "      <td>PC 17599</td>\n",
              "      <td>71.2833</td>\n",
              "      <td>C85</td>\n",
              "      <td>C</td>\n",
              "    </tr>\n",
              "    <tr>\n",
              "      <th>2</th>\n",
              "      <td>3</td>\n",
              "      <td>1</td>\n",
              "      <td>3</td>\n",
              "      <td>Heikkinen, Miss. Laina</td>\n",
              "      <td>female</td>\n",
              "      <td>26.0</td>\n",
              "      <td>0</td>\n",
              "      <td>0</td>\n",
              "      <td>STON/O2. 3101282</td>\n",
              "      <td>7.9250</td>\n",
              "      <td>NaN</td>\n",
              "      <td>S</td>\n",
              "    </tr>\n",
              "    <tr>\n",
              "      <th>3</th>\n",
              "      <td>4</td>\n",
              "      <td>1</td>\n",
              "      <td>1</td>\n",
              "      <td>Futrelle, Mrs. Jacques Heath (Lily May Peel)</td>\n",
              "      <td>female</td>\n",
              "      <td>35.0</td>\n",
              "      <td>1</td>\n",
              "      <td>0</td>\n",
              "      <td>113803</td>\n",
              "      <td>53.1000</td>\n",
              "      <td>C123</td>\n",
              "      <td>S</td>\n",
              "    </tr>\n",
              "    <tr>\n",
              "      <th>4</th>\n",
              "      <td>5</td>\n",
              "      <td>0</td>\n",
              "      <td>3</td>\n",
              "      <td>Allen, Mr. William Henry</td>\n",
              "      <td>male</td>\n",
              "      <td>35.0</td>\n",
              "      <td>0</td>\n",
              "      <td>0</td>\n",
              "      <td>373450</td>\n",
              "      <td>8.0500</td>\n",
              "      <td>NaN</td>\n",
              "      <td>S</td>\n",
              "    </tr>\n",
              "  </tbody>\n",
              "</table>\n",
              "</div>"
            ],
            "text/plain": [
              "   PassengerId  Survived  Pclass  ...     Fare Cabin  Embarked\n",
              "0            1         0       3  ...   7.2500   NaN         S\n",
              "1            2         1       1  ...  71.2833   C85         C\n",
              "2            3         1       3  ...   7.9250   NaN         S\n",
              "3            4         1       1  ...  53.1000  C123         S\n",
              "4            5         0       3  ...   8.0500   NaN         S\n",
              "\n",
              "[5 rows x 12 columns]"
            ]
          },
          "metadata": {
            "tags": []
          },
          "execution_count": 12
        }
      ]
    },
    {
      "cell_type": "code",
      "metadata": {
        "id": "fdthGxz_M91t",
        "colab_type": "code",
        "colab": {
          "base_uri": "https://localhost:8080/",
          "height": 347
        },
        "outputId": "b317308d-7082-45a5-ad1d-34561ca80b42"
      },
      "source": [
        "titanic_train.info()"
      ],
      "execution_count": 13,
      "outputs": [
        {
          "output_type": "stream",
          "text": [
            "<class 'pandas.core.frame.DataFrame'>\n",
            "RangeIndex: 891 entries, 0 to 890\n",
            "Data columns (total 12 columns):\n",
            " #   Column       Non-Null Count  Dtype  \n",
            "---  ------       --------------  -----  \n",
            " 0   PassengerId  891 non-null    int64  \n",
            " 1   Survived     891 non-null    int64  \n",
            " 2   Pclass       891 non-null    int64  \n",
            " 3   Name         891 non-null    object \n",
            " 4   Sex          891 non-null    object \n",
            " 5   Age          714 non-null    float64\n",
            " 6   SibSp        891 non-null    int64  \n",
            " 7   Parch        891 non-null    int64  \n",
            " 8   Ticket       891 non-null    object \n",
            " 9   Fare         891 non-null    float64\n",
            " 10  Cabin        204 non-null    object \n",
            " 11  Embarked     889 non-null    object \n",
            "dtypes: float64(2), int64(5), object(5)\n",
            "memory usage: 83.7+ KB\n"
          ],
          "name": "stdout"
        }
      ]
    },
    {
      "cell_type": "markdown",
      "metadata": {
        "id": "r7SiRgpeM40P",
        "colab_type": "text"
      },
      "source": [
        "### Features Descirption\n",
        "* PassengerId - This feature is Unique for each Passenger in Titanic\n",
        "* PClass - A proxy for socio-economic status (SES)\n",
        "  * 1st = Upper\n",
        "  * 2nd = Middle\n",
        "  * 3rd = Lower \n",
        "* Name - Name of a Passenger\n",
        "* Sex - Gender of a Passenger,\n",
        "* Age - Age of a Passenger(In Years)\n",
        "* SibSp - The dataset defines family relations in this way.\n",
        "  * Sibling = brother, sister, stepbrother, stepsister\n",
        "  * Spouse = husband, wife (mistresses and fiancés were ignored)\n",
        "* Parch - The dataset defines family relations in this way.\n",
        "  * Parent = mother, father\n",
        "  * Child = daughter, son, stepdaughter, stepson\n",
        "  * Some children travelled only with a nanny, therefore parch=0 for them.\n",
        "* Ticket - Ticket Number [Unique for each passenger]\n",
        "* Fare - Fare of each Ticket.\n",
        "* Cabin - Cabin Number\n",
        "* Embarkation - Port of Embarkation\n",
        "  *\tC = Cherbourg\n",
        "  * Q = Queenstown\n",
        "  * S = Southampton\n",
        "\n",
        "* Unique Features: [PassengerId, Name, Ticket]\n",
        "* Numerical Features: [Age,Fare]\n",
        "* Categorical Features: [Pclass, Sex, SibSp, Parch, Cabin, Embarked]\n",
        "\n",
        "Note: Unique Features might not be useful much, so we can drop those features. But by using some feature engineering we can find insights in data."
      ]
    },
    {
      "cell_type": "code",
      "metadata": {
        "id": "L39VJstppOcb",
        "colab_type": "code",
        "colab": {}
      },
      "source": [
        "non_survived_count, survived_count = titanic_train.Survived.value_counts()"
      ],
      "execution_count": 14,
      "outputs": []
    },
    {
      "cell_type": "code",
      "metadata": {
        "id": "yLS-SHpdpNxi",
        "colab_type": "code",
        "colab": {
          "base_uri": "https://localhost:8080/",
          "height": 52
        },
        "outputId": "04caada6-6aea-4d44-ccab-d30e1a613440"
      },
      "source": [
        "print(f\"Non Survived People Percentage : {round((non_survived_count/train_length)*100,2)} %\")\n",
        "print(f\"Survived People Percentage : {round((survived_count/train_length)*100,2)} %\")"
      ],
      "execution_count": 15,
      "outputs": [
        {
          "output_type": "stream",
          "text": [
            "Non Survived People Percentage : 61.62 %\n",
            "Survived People Percentage : 38.38 %\n"
          ],
          "name": "stdout"
        }
      ]
    },
    {
      "cell_type": "code",
      "metadata": {
        "id": "SZhQv5lCpNTH",
        "colab_type": "code",
        "colab": {
          "base_uri": "https://localhost:8080/",
          "height": 279
        },
        "outputId": "fdb1d60a-0b5d-4bf9-c752-afed2e241ede"
      },
      "source": [
        "ax = sns.countplot(x=titanic_train.Survived, data = titanic_train, hue='Survived')\n",
        "for p in ax.patches:\n",
        "  x = p.get_x() + p.get_width() / 2 - 0.30\n",
        "  y = p.get_y() + p.get_height()\n",
        "  ax.annotate(y, (x, y), size = 12)\n",
        "plt.show()"
      ],
      "execution_count": 16,
      "outputs": [
        {
          "output_type": "display_data",
          "data": {
            "image/png": "[encoded data removed]",
            "text/plain": [
              "<Figure size 432x288 with 1 Axes>"
            ]
          },
          "metadata": {
            "tags": [],
            "needs_background": "light"
          }
        }
      ]
    },
    {
      "cell_type": "markdown",
      "metadata": {
        "id": "-zxmNKc-NPaf",
        "colab_type": "text"
      },
      "source": [
        "### Titanic Disaster Training Data \n",
        "* Most passengers(61%) didn't survived.\n",
        "* Only 39% of passengers survided."
      ]
    },
    {
      "cell_type": "code",
      "metadata": {
        "id": "k9rrtLyNRLbU",
        "colab_type": "code",
        "colab": {
          "base_uri": "https://localhost:8080/",
          "height": 69
        },
        "outputId": "b1701b4d-4b80-42fa-c0cb-6081384a2b91"
      },
      "source": [
        "titanic_train.columns"
      ],
      "execution_count": 17,
      "outputs": [
        {
          "output_type": "execute_result",
          "data": {
            "text/plain": [
              "Index(['PassengerId', 'Survived', 'Pclass', 'Name', 'Sex', 'Age', 'SibSp',\n",
              "       'Parch', 'Ticket', 'Fare', 'Cabin', 'Embarked'],\n",
              "      dtype='object')"
            ]
          },
          "metadata": {
            "tags": []
          },
          "execution_count": 17
        }
      ]
    },
    {
      "cell_type": "code",
      "metadata": {
        "id": "Nl9tk5K4ROVc",
        "colab_type": "code",
        "colab": {
          "base_uri": "https://localhost:8080/",
          "height": 294
        },
        "outputId": "654fdf6d-2666-4a65-8fe4-517bb7de0803"
      },
      "source": [
        "titanic_train.describe()"
      ],
      "execution_count": 18,
      "outputs": [
        {
          "output_type": "execute_result",
          "data": {
            "text/html": [
              "<div>\n",
              "<style scoped>\n",
              "    .dataframe tbody tr th:only-of-type {\n",
              "        vertical-align: middle;\n",
              "    }\n",
              "\n",
              "    .dataframe tbody tr th {\n",
              "        vertical-align: top;\n",
              "    }\n",
              "\n",
              "    .dataframe thead th {\n",
              "        text-align: right;\n",
              "    }\n",
              "</style>\n",
              "<table border=\"1\" class=\"dataframe\">\n",
              "  <thead>\n",
              "    <tr style=\"text-align: right;\">\n",
              "      <th></th>\n",
              "      <th>PassengerId</th>\n",
              "      <th>Survived</th>\n",
              "      <th>Pclass</th>\n",
              "      <th>Age</th>\n",
              "      <th>SibSp</th>\n",
              "      <th>Parch</th>\n",
              "      <th>Fare</th>\n",
              "    </tr>\n",
              "  </thead>\n",
              "  <tbody>\n",
              "    <tr>\n",
              "      <th>count</th>\n",
              "      <td>891.000000</td>\n",
              "      <td>891.000000</td>\n",
              "      <td>891.000000</td>\n",
              "      <td>714.000000</td>\n",
              "      <td>891.000000</td>\n",
              "      <td>891.000000</td>\n",
              "      <td>891.000000</td>\n",
              "    </tr>\n",
              "    <tr>\n",
              "      <th>mean</th>\n",
              "      <td>446.000000</td>\n",
              "      <td>0.383838</td>\n",
              "      <td>2.308642</td>\n",
              "      <td>29.699118</td>\n",
              "      <td>0.523008</td>\n",
              "      <td>0.381594</td>\n",
              "      <td>32.204208</td>\n",
              "    </tr>\n",
              "    <tr>\n",
              "      <th>std</th>\n",
              "      <td>257.353842</td>\n",
              "      <td>0.486592</td>\n",
              "      <td>0.836071</td>\n",
              "      <td>14.526497</td>\n",
              "      <td>1.102743</td>\n",
              "      <td>0.806057</td>\n",
              "      <td>49.693429</td>\n",
              "    </tr>\n",
              "    <tr>\n",
              "      <th>min</th>\n",
              "      <td>1.000000</td>\n",
              "      <td>0.000000</td>\n",
              "      <td>1.000000</td>\n",
              "      <td>0.420000</td>\n",
              "      <td>0.000000</td>\n",
              "      <td>0.000000</td>\n",
              "      <td>0.000000</td>\n",
              "    </tr>\n",
              "    <tr>\n",
              "      <th>25%</th>\n",
              "      <td>223.500000</td>\n",
              "      <td>0.000000</td>\n",
              "      <td>2.000000</td>\n",
              "      <td>20.125000</td>\n",
              "      <td>0.000000</td>\n",
              "      <td>0.000000</td>\n",
              "      <td>7.910400</td>\n",
              "    </tr>\n",
              "    <tr>\n",
              "      <th>50%</th>\n",
              "      <td>446.000000</td>\n",
              "      <td>0.000000</td>\n",
              "      <td>3.000000</td>\n",
              "      <td>28.000000</td>\n",
              "      <td>0.000000</td>\n",
              "      <td>0.000000</td>\n",
              "      <td>14.454200</td>\n",
              "    </tr>\n",
              "    <tr>\n",
              "      <th>75%</th>\n",
              "      <td>668.500000</td>\n",
              "      <td>1.000000</td>\n",
              "      <td>3.000000</td>\n",
              "      <td>38.000000</td>\n",
              "      <td>1.000000</td>\n",
              "      <td>0.000000</td>\n",
              "      <td>31.000000</td>\n",
              "    </tr>\n",
              "    <tr>\n",
              "      <th>max</th>\n",
              "      <td>891.000000</td>\n",
              "      <td>1.000000</td>\n",
              "      <td>3.000000</td>\n",
              "      <td>80.000000</td>\n",
              "      <td>8.000000</td>\n",
              "      <td>6.000000</td>\n",
              "      <td>512.329200</td>\n",
              "    </tr>\n",
              "  </tbody>\n",
              "</table>\n",
              "</div>"
            ],
            "text/plain": [
              "       PassengerId    Survived      Pclass  ...       SibSp       Parch        Fare\n",
              "count   891.000000  891.000000  891.000000  ...  891.000000  891.000000  891.000000\n",
              "mean    446.000000    0.383838    2.308642  ...    0.523008    0.381594   32.204208\n",
              "std     257.353842    0.486592    0.836071  ...    1.102743    0.806057   49.693429\n",
              "min       1.000000    0.000000    1.000000  ...    0.000000    0.000000    0.000000\n",
              "25%     223.500000    0.000000    2.000000  ...    0.000000    0.000000    7.910400\n",
              "50%     446.000000    0.000000    3.000000  ...    0.000000    0.000000   14.454200\n",
              "75%     668.500000    1.000000    3.000000  ...    1.000000    0.000000   31.000000\n",
              "max     891.000000    1.000000    3.000000  ...    8.000000    6.000000  512.329200\n",
              "\n",
              "[8 rows x 7 columns]"
            ]
          },
          "metadata": {
            "tags": []
          },
          "execution_count": 18
        }
      ]
    },
    {
      "cell_type": "markdown",
      "metadata": {
        "id": "9B9wFovqSOj3",
        "colab_type": "text"
      },
      "source": [
        "## Missing Values"
      ]
    },
    {
      "cell_type": "code",
      "metadata": {
        "id": "J4NaU01sSl14",
        "colab_type": "code",
        "colab": {
          "base_uri": "https://localhost:8080/",
          "height": 243
        },
        "outputId": "60b59174-814d-4ab1-f8e2-f70a9f292836"
      },
      "source": [
        "titanic_train.isnull().sum()"
      ],
      "execution_count": 19,
      "outputs": [
        {
          "output_type": "execute_result",
          "data": {
            "text/plain": [
              "PassengerId      0\n",
              "Survived         0\n",
              "Pclass           0\n",
              "Name             0\n",
              "Sex              0\n",
              "Age            177\n",
              "SibSp            0\n",
              "Parch            0\n",
              "Ticket           0\n",
              "Fare             0\n",
              "Cabin          687\n",
              "Embarked         2\n",
              "dtype: int64"
            ]
          },
          "metadata": {
            "tags": []
          },
          "execution_count": 19
        }
      ]
    },
    {
      "cell_type": "code",
      "metadata": {
        "id": "MQZ05GbzPDTc",
        "colab_type": "code",
        "colab": {}
      },
      "source": [
        "#Finding Missing Values in given features\n",
        "missing_cols = []\n",
        "missing_percent = []\n",
        "for col in titanic_train.columns:\n",
        "  missing_cols.append(col)\n",
        "  missing_percent.append(round(titanic_train[col].isnull().sum()/(train_length),2) * 100)"
      ],
      "execution_count": 20,
      "outputs": []
    },
    {
      "cell_type": "code",
      "metadata": {
        "id": "RUDd4ePzPFXE",
        "colab_type": "code",
        "colab": {
          "base_uri": "https://localhost:8080/",
          "height": 375
        },
        "outputId": "29e273bc-836b-4e47-ee5d-16f70bb08a59"
      },
      "source": [
        "plt.figure(figsize=(10, 6))\n",
        "ax = sns.barplot(x = missing_cols, y = missing_percent)\n",
        "for p in ax.patches:\n",
        "  x = p.get_x() + p.get_width() / 2 - 0.30\n",
        "  y = p.get_y() + p.get_height()\n",
        "  ax.annotate(y, (x, y), size = 12)\n",
        "plt.show();"
      ],
      "execution_count": 21,
      "outputs": [
        {
          "output_type": "display_data",
          "data": {
            "image/png": "[encoded data removed]",
            "text/plain": [
              "<Figure size 720x432 with 1 Axes>"
            ]
          },
          "metadata": {
            "tags": [],
            "needs_background": "light"
          }
        }
      ]
    },
    {
      "cell_type": "markdown",
      "metadata": {
        "id": "GmZGJ3UPPnIw",
        "colab_type": "text"
      },
      "source": [
        "### Missing Values in Training Data\n",
        "* In Training Data set three features has missing values\n",
        "* Embarked has 2 missing values. It is categorical data, so we can replace missing values with mostly occured(Mode) value in training data set.\n",
        "* Age is numerical feature and 20% of values are missing in training data set. We have several ways of handle missing values. Eg: Replacing missing values by Mean value, Median value, Some other techniques. Mostly if data is normally distributed mean value is prefarable otherwise median value is preferable.\n",
        "* Cabin has 77% of missing values. This percentage is very high, mostly we can drop features has high percentage of missing values."
      ]
    },
    {
      "cell_type": "markdown",
      "metadata": {
        "id": "7PqVQM6FStgi",
        "colab_type": "text"
      },
      "source": [
        "## Numerical Features Analysis\n",
        " * Training Data has two numerical features Age and Fare.\n"
      ]
    },
    {
      "cell_type": "markdown",
      "metadata": {
        "id": "6jvFcVLcTc2I",
        "colab_type": "text"
      },
      "source": [
        "## Age"
      ]
    },
    {
      "cell_type": "code",
      "metadata": {
        "id": "mm0UXeLtThPv",
        "colab_type": "code",
        "colab": {
          "base_uri": "https://localhost:8080/",
          "height": 173
        },
        "outputId": "66c3f7c0-b4d7-4fd8-9619-defaeab90f4a"
      },
      "source": [
        "titanic_train.Age.describe()"
      ],
      "execution_count": 22,
      "outputs": [
        {
          "output_type": "execute_result",
          "data": {
            "text/plain": [
              "count    714.000000\n",
              "mean      29.699118\n",
              "std       14.526497\n",
              "min        0.420000\n",
              "25%       20.125000\n",
              "50%       28.000000\n",
              "75%       38.000000\n",
              "max       80.000000\n",
              "Name: Age, dtype: float64"
            ]
          },
          "metadata": {
            "tags": []
          },
          "execution_count": 22
        }
      ]
    },
    {
      "cell_type": "code",
      "metadata": {
        "id": "P1vKfw1PT65X",
        "colab_type": "code",
        "colab": {
          "base_uri": "https://localhost:8080/",
          "height": 252
        },
        "outputId": "d3de38e9-cb85-4122-c565-2723acdc936c"
      },
      "source": [
        "sns.boxplot(y=titanic_train.Age)\n",
        "plt.show()"
      ],
      "execution_count": 23,
      "outputs": [
        {
          "output_type": "display_data",
          "data": {
            "image/png": "[encoded data removed]",
            "text/plain": [
              "<Figure size 432x288 with 1 Axes>"
            ]
          },
          "metadata": {
            "tags": [],
            "needs_background": "light"
          }
        }
      ]
    },
    {
      "cell_type": "code",
      "metadata": {
        "id": "FbBzVIdxTUev",
        "colab_type": "code",
        "colab": {
          "base_uri": "https://localhost:8080/",
          "height": 279
        },
        "outputId": "cd94cd76-1c95-4914-eb9b-5a7130f455f5"
      },
      "source": [
        "# AGE\n",
        "sns.distplot(titanic_train.Age)\n",
        "plt.show()"
      ],
      "execution_count": 24,
      "outputs": [
        {
          "output_type": "display_data",
          "data": {
            "image/png": "[encoded data removed]",
            "text/plain": [
              "<Figure size 432x288 with 1 Axes>"
            ]
          },
          "metadata": {
            "tags": [],
            "needs_background": "light"
          }
        }
      ]
    },
    {
      "cell_type": "code",
      "metadata": {
        "id": "Gnh8ad1qVIi7",
        "colab_type": "code",
        "colab": {
          "base_uri": "https://localhost:8080/",
          "height": 35
        },
        "outputId": "36f522c1-8c2a-45b1-f949-c74615abdf7b"
      },
      "source": [
        "titanic_train.Age.corr(titanic_train.Survived, method='spearman')"
      ],
      "execution_count": 25,
      "outputs": [
        {
          "output_type": "execute_result",
          "data": {
            "text/plain": [
              "-0.05256530004469449"
            ]
          },
          "metadata": {
            "tags": []
          },
          "execution_count": 25
        }
      ]
    },
    {
      "cell_type": "markdown",
      "metadata": {
        "id": "E0MQY__XUULe",
        "colab_type": "text"
      },
      "source": [
        "#### Observations\n",
        "* Age is looks like little right skewed distribution, This type of distribution mostly we prefer median value compared to mean to handle missing values.\n",
        "* According to Box plot we have very little outliers.\n",
        "* Age value doesn't much corralation with Survived feature."
      ]
    },
    {
      "cell_type": "markdown",
      "metadata": {
        "id": "4heWf3kRXSNE",
        "colab_type": "text"
      },
      "source": [
        "## Fare"
      ]
    },
    {
      "cell_type": "code",
      "metadata": {
        "id": "plFslX8sXZQi",
        "colab_type": "code",
        "colab": {
          "base_uri": "https://localhost:8080/",
          "height": 173
        },
        "outputId": "7c9f3736-7356-47be-bcc9-c1d24ae2107b"
      },
      "source": [
        "titanic_train.Fare.describe()"
      ],
      "execution_count": 26,
      "outputs": [
        {
          "output_type": "execute_result",
          "data": {
            "text/plain": [
              "count    891.000000\n",
              "mean      32.204208\n",
              "std       49.693429\n",
              "min        0.000000\n",
              "25%        7.910400\n",
              "50%       14.454200\n",
              "75%       31.000000\n",
              "max      512.329200\n",
              "Name: Fare, dtype: float64"
            ]
          },
          "metadata": {
            "tags": []
          },
          "execution_count": 26
        }
      ]
    },
    {
      "cell_type": "code",
      "metadata": {
        "id": "v3pN-juqX0ZF",
        "colab_type": "code",
        "colab": {
          "base_uri": "https://localhost:8080/",
          "height": 252
        },
        "outputId": "4dbe19ee-2eb7-444e-9b86-ff78f117ca0a"
      },
      "source": [
        "sns.boxplot(y=titanic_train.Fare)\n",
        "plt.show()"
      ],
      "execution_count": 27,
      "outputs": [
        {
          "output_type": "display_data",
          "data": {
            "image/png": "[encoded data removed]",
            "text/plain": [
              "<Figure size 432x288 with 1 Axes>"
            ]
          },
          "metadata": {
            "tags": [],
            "needs_background": "light"
          }
        }
      ]
    },
    {
      "cell_type": "code",
      "metadata": {
        "id": "t0ehCRChaHh4",
        "colab_type": "code",
        "colab": {
          "base_uri": "https://localhost:8080/",
          "height": 280
        },
        "outputId": "205eb132-1099-4354-a177-3d4dcba50be5"
      },
      "source": [
        "sns.distplot(titanic_train.Fare)\n",
        "plt.show()"
      ],
      "execution_count": 28,
      "outputs": [
        {
          "output_type": "display_data",
          "data": {
            "image/png": "[encoded data removed]",
            "text/plain": [
              "<Figure size 432x288 with 1 Axes>"
            ]
          },
          "metadata": {
            "tags": [],
            "needs_background": "light"
          }
        }
      ]
    },
    {
      "cell_type": "code",
      "metadata": {
        "id": "nN0SyntBZSVc",
        "colab_type": "code",
        "colab": {
          "base_uri": "https://localhost:8080/",
          "height": 208
        },
        "outputId": "6cd65e4c-a53f-466b-fd5e-cc66972c3095"
      },
      "source": [
        "for i in range(0,100,10):\n",
        "  val = titanic_train.Fare.values\n",
        "  val = np.sort(val, axis=None)\n",
        "  print(f\"{i} Percentile Value is : {val[int(train_length*(i / 100))]}\")\n",
        "print(\"100 Percentile Value is : \", val[-1])"
      ],
      "execution_count": 29,
      "outputs": [
        {
          "output_type": "stream",
          "text": [
            "0 Percentile Value is : 0.0\n",
            "10 Percentile Value is : 7.55\n",
            "20 Percentile Value is : 7.8542\n",
            "30 Percentile Value is : 8.05\n",
            "40 Percentile Value is : 10.5\n",
            "50 Percentile Value is : 14.4542\n",
            "60 Percentile Value is : 21.6792\n",
            "70 Percentile Value is : 27.0\n",
            "80 Percentile Value is : 39.6875\n",
            "90 Percentile Value is : 77.9583\n",
            "100 Percentile Value is :  512.3292\n"
          ],
          "name": "stdout"
        }
      ]
    },
    {
      "cell_type": "code",
      "metadata": {
        "id": "Qz-jWp_8Zfhc",
        "colab_type": "code",
        "colab": {
          "base_uri": "https://localhost:8080/",
          "height": 208
        },
        "outputId": "dfa10c73-a584-4c6b-8415-33a912a57b05"
      },
      "source": [
        "for i in range(90,100,1):\n",
        "  val = titanic_train.Fare.values\n",
        "  val = np.sort(val, axis=None)\n",
        "  print(f\"{i} Percentile Value is : {val[int(train_length*(i / 100))]}\")\n",
        "print(\"100 Percentile Value is : \", val[-1])"
      ],
      "execution_count": 30,
      "outputs": [
        {
          "output_type": "stream",
          "text": [
            "90 Percentile Value is : 77.9583\n",
            "91 Percentile Value is : 79.2\n",
            "92 Percentile Value is : 82.1708\n",
            "93 Percentile Value is : 89.1042\n",
            "94 Percentile Value is : 93.5\n",
            "95 Percentile Value is : 113.275\n",
            "96 Percentile Value is : 134.5\n",
            "97 Percentile Value is : 151.55\n",
            "98 Percentile Value is : 211.3375\n",
            "99 Percentile Value is : 262.375\n",
            "100 Percentile Value is :  512.3292\n"
          ],
          "name": "stdout"
        }
      ]
    },
    {
      "cell_type": "code",
      "metadata": {
        "id": "5RMJS4UnZpHL",
        "colab_type": "code",
        "colab": {
          "base_uri": "https://localhost:8080/",
          "height": 208
        },
        "outputId": "f3463da9-877c-46c5-f4e5-6c5b6bfa7286"
      },
      "source": [
        "for i in np.arange(0.0, 1.0, 0.1):\n",
        "  val = titanic_train.Fare.values\n",
        "  val = np.sort(val, axis=None)\n",
        "  print(f\"{round(99+i,3)} Percentile Value is : {val[int(train_length*(float(99+i)/100))]}\")\n",
        "print(\"100 Percentile Value is : \", val[-1])"
      ],
      "execution_count": 31,
      "outputs": [
        {
          "output_type": "stream",
          "text": [
            "99.0 Percentile Value is : 262.375\n",
            "99.1 Percentile Value is : 262.375\n",
            "99.2 Percentile Value is : 262.375\n",
            "99.3 Percentile Value is : 263.0\n",
            "99.4 Percentile Value is : 263.0\n",
            "99.5 Percentile Value is : 263.0\n",
            "99.6 Percentile Value is : 263.0\n",
            "99.7 Percentile Value is : 512.3292\n",
            "99.8 Percentile Value is : 512.3292\n",
            "99.9 Percentile Value is : 512.3292\n",
            "100 Percentile Value is :  512.3292\n"
          ],
          "name": "stdout"
        }
      ]
    },
    {
      "cell_type": "code",
      "metadata": {
        "id": "gi4ESaUgnqtq",
        "colab_type": "code",
        "colab": {
          "base_uri": "https://localhost:8080/",
          "height": 35
        },
        "outputId": "e4fe985e-168a-4620-8396-3202f3a1f32b"
      },
      "source": [
        "titanic_train.Fare.corr(titanic_train.Survived, method='spearman')"
      ],
      "execution_count": 32,
      "outputs": [
        {
          "output_type": "execute_result",
          "data": {
            "text/plain": [
              "0.32373613944480834"
            ]
          },
          "metadata": {
            "tags": []
          },
          "execution_count": 32
        }
      ]
    },
    {
      "cell_type": "markdown",
      "metadata": {
        "id": "riDBVFmEaq6H",
        "colab_type": "text"
      },
      "source": [
        "#### Observations\n",
        "* Fare feature has outlier value 512. By using percentile we can put threshhold value 300, so we can remove which row has fare value morethen 300.\n",
        "* Data is not distributed normlly.\n",
        "* We don't have strong correlation between Fare and Survived features. corralation is = 0.32."
      ]
    },
    {
      "cell_type": "markdown",
      "metadata": {
        "id": "zjf8cWrucF4W",
        "colab_type": "text"
      },
      "source": [
        "### Categorical Features\n",
        "* Train Data has [Pclass, Sex, SibSp, Parch, Cabin, Embarked] categorical features."
      ]
    },
    {
      "cell_type": "code",
      "metadata": {
        "id": "jhbgTwkyaiUt",
        "colab_type": "code",
        "colab": {}
      },
      "source": [
        "categorical_columns = ['Sex', 'SibSp', 'Parch', 'Embarked','Pclass']"
      ],
      "execution_count": 33,
      "outputs": []
    },
    {
      "cell_type": "code",
      "metadata": {
        "id": "ybaRvUGJoTCf",
        "colab_type": "code",
        "colab": {
          "base_uri": "https://localhost:8080/",
          "height": 524
        },
        "outputId": "03c5d1c2-3445-463c-ceb8-738ae59f5bda"
      },
      "source": [
        "fig, ax = plt.subplots(math.ceil(len(categorical_columns) / 3), 3, figsize=(20, 12))\n",
        "ax = ax.flatten()\n",
        "for ax, col in zip(ax, categorical_columns):\n",
        "  sns.countplot(x= col, data= titanic_train, hue='Survived', ax=ax)\n",
        "  ax.legend(title='Survived', labels=['No', 'Yes'],loc='upper right')"
      ],
      "execution_count": 34,
      "outputs": [
        {
          "output_type": "display_data",
          "data": {
            "image/png": "[encoded data removed]",
            "text/plain": [
              "<Figure size 1440x864 with 6 Axes>"
            ]
          },
          "metadata": {
            "tags": [],
            "needs_background": "light"
          }
        }
      ]
    },
    {
      "cell_type": "markdown",
      "metadata": {
        "id": "SAj2zqJ06FUu",
        "colab_type": "text"
      },
      "source": [
        "#### Categorical Feature Observations\n",
        "* Training data has most of passengers are male and less percent of passengers were survied in titanic disaster, so Female passengers has high chance of survived chance.\n",
        "* Passenger Class First Class Passengers have high survival ratio compared to Second Class and Third Class Passengers. Most of passengers are traveling on Third class but they have very low survival rate compared to First and Second Class passengers.\n",
        "* Family size of a passenger[SibSp and ParCh] also has impcat on survival, family size 0 passengers has very low survival ratio.\n",
        "* Embarked S has very low srvival ratio.\n"
      ]
    },
    {
      "cell_type": "code",
      "metadata": {
        "id": "TOPOIoA_kBAi",
        "colab_type": "code",
        "colab": {
          "base_uri": "https://localhost:8080/",
          "height": 263
        },
        "outputId": "dd101edd-e8f7-43aa-f945-3964e12fec22"
      },
      "source": [
        "titanic_train.corr()"
      ],
      "execution_count": 35,
      "outputs": [
        {
          "output_type": "execute_result",
          "data": {
            "text/html": [
              "<div>\n",
              "<style scoped>\n",
              "    .dataframe tbody tr th:only-of-type {\n",
              "        vertical-align: middle;\n",
              "    }\n",
              "\n",
              "    .dataframe tbody tr th {\n",
              "        vertical-align: top;\n",
              "    }\n",
              "\n",
              "    .dataframe thead th {\n",
              "        text-align: right;\n",
              "    }\n",
              "</style>\n",
              "<table border=\"1\" class=\"dataframe\">\n",
              "  <thead>\n",
              "    <tr style=\"text-align: right;\">\n",
              "      <th></th>\n",
              "      <th>PassengerId</th>\n",
              "      <th>Survived</th>\n",
              "      <th>Pclass</th>\n",
              "      <th>Age</th>\n",
              "      <th>SibSp</th>\n",
              "      <th>Parch</th>\n",
              "      <th>Fare</th>\n",
              "    </tr>\n",
              "  </thead>\n",
              "  <tbody>\n",
              "    <tr>\n",
              "      <th>PassengerId</th>\n",
              "      <td>1.000000</td>\n",
              "      <td>-0.005007</td>\n",
              "      <td>-0.035144</td>\n",
              "      <td>0.036847</td>\n",
              "      <td>-0.057527</td>\n",
              "      <td>-0.001652</td>\n",
              "      <td>0.012658</td>\n",
              "    </tr>\n",
              "    <tr>\n",
              "      <th>Survived</th>\n",
              "      <td>-0.005007</td>\n",
              "      <td>1.000000</td>\n",
              "      <td>-0.338481</td>\n",
              "      <td>-0.077221</td>\n",
              "      <td>-0.035322</td>\n",
              "      <td>0.081629</td>\n",
              "      <td>0.257307</td>\n",
              "    </tr>\n",
              "    <tr>\n",
              "      <th>Pclass</th>\n",
              "      <td>-0.035144</td>\n",
              "      <td>-0.338481</td>\n",
              "      <td>1.000000</td>\n",
              "      <td>-0.369226</td>\n",
              "      <td>0.083081</td>\n",
              "      <td>0.018443</td>\n",
              "      <td>-0.549500</td>\n",
              "    </tr>\n",
              "    <tr>\n",
              "      <th>Age</th>\n",
              "      <td>0.036847</td>\n",
              "      <td>-0.077221</td>\n",
              "      <td>-0.369226</td>\n",
              "      <td>1.000000</td>\n",
              "      <td>-0.308247</td>\n",
              "      <td>-0.189119</td>\n",
              "      <td>0.096067</td>\n",
              "    </tr>\n",
              "    <tr>\n",
              "      <th>SibSp</th>\n",
              "      <td>-0.057527</td>\n",
              "      <td>-0.035322</td>\n",
              "      <td>0.083081</td>\n",
              "      <td>-0.308247</td>\n",
              "      <td>1.000000</td>\n",
              "      <td>0.414838</td>\n",
              "      <td>0.159651</td>\n",
              "    </tr>\n",
              "    <tr>\n",
              "      <th>Parch</th>\n",
              "      <td>-0.001652</td>\n",
              "      <td>0.081629</td>\n",
              "      <td>0.018443</td>\n",
              "      <td>-0.189119</td>\n",
              "      <td>0.414838</td>\n",
              "      <td>1.000000</td>\n",
              "      <td>0.216225</td>\n",
              "    </tr>\n",
              "    <tr>\n",
              "      <th>Fare</th>\n",
              "      <td>0.012658</td>\n",
              "      <td>0.257307</td>\n",
              "      <td>-0.549500</td>\n",
              "      <td>0.096067</td>\n",
              "      <td>0.159651</td>\n",
              "      <td>0.216225</td>\n",
              "      <td>1.000000</td>\n",
              "    </tr>\n",
              "  </tbody>\n",
              "</table>\n",
              "</div>"
            ],
            "text/plain": [
              "             PassengerId  Survived    Pclass  ...     SibSp     Parch      Fare\n",
              "PassengerId     1.000000 -0.005007 -0.035144  ... -0.057527 -0.001652  0.012658\n",
              "Survived       -0.005007  1.000000 -0.338481  ... -0.035322  0.081629  0.257307\n",
              "Pclass         -0.035144 -0.338481  1.000000  ...  0.083081  0.018443 -0.549500\n",
              "Age             0.036847 -0.077221 -0.369226  ... -0.308247 -0.189119  0.096067\n",
              "SibSp          -0.057527 -0.035322  0.083081  ...  1.000000  0.414838  0.159651\n",
              "Parch          -0.001652  0.081629  0.018443  ...  0.414838  1.000000  0.216225\n",
              "Fare            0.012658  0.257307 -0.549500  ...  0.159651  0.216225  1.000000\n",
              "\n",
              "[7 rows x 7 columns]"
            ]
          },
          "metadata": {
            "tags": []
          },
          "execution_count": 35
        }
      ]
    },
    {
      "cell_type": "code",
      "metadata": {
        "id": "JixIXwVLokgz",
        "colab_type": "code",
        "colab": {}
      },
      "source": [
        "#titanic_train.drop(titanic_train[titanic_train['Fare']>300].index, inplace=True)"
      ],
      "execution_count": 36,
      "outputs": []
    },
    {
      "cell_type": "markdown",
      "metadata": {
        "id": "5HwxgAlxbfyw",
        "colab_type": "text"
      },
      "source": [
        "## Feature Engineering \n",
        "* Default Features are not much suffecient to decide is passenger survived or not. So we do create some features which are used for predicting is passenger is survived or not."
      ]
    },
    {
      "cell_type": "code",
      "metadata": {
        "id": "sVBzsr2Eu2wz",
        "colab_type": "code",
        "colab": {}
      },
      "source": [
        "titanic_train.Age.fillna(titanic_train.Age.median(), inplace=True)"
      ],
      "execution_count": 37,
      "outputs": []
    },
    {
      "cell_type": "code",
      "metadata": {
        "id": "hJew79uawEt7",
        "colab_type": "code",
        "colab": {
          "base_uri": "https://localhost:8080/",
          "height": 35
        },
        "outputId": "781afd24-99fc-45a3-847f-ae37d905232d"
      },
      "source": [
        "titanic_train.Age.isnull().sum()"
      ],
      "execution_count": 38,
      "outputs": [
        {
          "output_type": "execute_result",
          "data": {
            "text/plain": [
              "0"
            ]
          },
          "metadata": {
            "tags": []
          },
          "execution_count": 38
        }
      ]
    },
    {
      "cell_type": "code",
      "metadata": {
        "id": "LBmFVC_IYlNo",
        "colab_type": "code",
        "colab": {
          "base_uri": "https://localhost:8080/",
          "height": 35
        },
        "outputId": "855ae47b-702e-423f-9204-aa8babb693f2"
      },
      "source": [
        "titanic_train.Parch.corr(titanic_train.Survived)"
      ],
      "execution_count": 39,
      "outputs": [
        {
          "output_type": "execute_result",
          "data": {
            "text/plain": [
              "0.08162940708348372"
            ]
          },
          "metadata": {
            "tags": []
          },
          "execution_count": 39
        }
      ]
    },
    {
      "cell_type": "code",
      "metadata": {
        "id": "IsqTg4tEcI4B",
        "colab_type": "code",
        "colab": {
          "base_uri": "https://localhost:8080/",
          "height": 35
        },
        "outputId": "41350d7c-66aa-42ac-8851-34893b8a339a"
      },
      "source": [
        "titanic_train.SibSp.corr(titanic_train.Survived)"
      ],
      "execution_count": 40,
      "outputs": [
        {
          "output_type": "execute_result",
          "data": {
            "text/plain": [
              "-0.035322498885735645"
            ]
          },
          "metadata": {
            "tags": []
          },
          "execution_count": 40
        }
      ]
    },
    {
      "cell_type": "code",
      "metadata": {
        "id": "cEm_aUl5cTRV",
        "colab_type": "code",
        "colab": {}
      },
      "source": [
        "titanic_train['family_size'] = titanic_train.Parch + titanic_train.SibSp"
      ],
      "execution_count": 41,
      "outputs": []
    },
    {
      "cell_type": "code",
      "metadata": {
        "id": "_bh9nJNlchgb",
        "colab_type": "code",
        "colab": {
          "base_uri": "https://localhost:8080/",
          "height": 35
        },
        "outputId": "e8346737-d6a8-4f3d-f557-425ec48e2e9a"
      },
      "source": [
        "titanic_train.family_size.corr(titanic_train.Survived)"
      ],
      "execution_count": 42,
      "outputs": [
        {
          "output_type": "execute_result",
          "data": {
            "text/plain": [
              "0.016638989282745254"
            ]
          },
          "metadata": {
            "tags": []
          },
          "execution_count": 42
        }
      ]
    },
    {
      "cell_type": "code",
      "metadata": {
        "id": "22j8W7EscpVz",
        "colab_type": "code",
        "colab": {
          "base_uri": "https://localhost:8080/",
          "height": 280
        },
        "outputId": "dc7c0885-9043-427d-90b5-4028b895f781"
      },
      "source": [
        "sns.countplot(x='family_size', data=titanic_train, hue='Survived')\n",
        "plt.show()"
      ],
      "execution_count": 43,
      "outputs": [
        {
          "output_type": "display_data",
          "data": {
            "image/png": "[encoded data removed]",
            "text/plain": [
              "<Figure size 432x288 with 1 Axes>"
            ]
          },
          "metadata": {
            "tags": [],
            "needs_background": "light"
          }
        }
      ]
    },
    {
      "cell_type": "markdown",
      "metadata": {
        "id": "nWkbIRqVdfKb",
        "colab_type": "text"
      },
      "source": [
        "#### Observations\n",
        "* Passengers which have 0 family size has very less survived ratio, so we can build one feature for is alone or not."
      ]
    },
    {
      "cell_type": "code",
      "metadata": {
        "id": "L7baJGXjfV5Y",
        "colab_type": "code",
        "colab": {
          "base_uri": "https://localhost:8080/",
          "height": 173
        },
        "outputId": "28c757ed-500b-4ccf-9edb-2b97b45486b1"
      },
      "source": [
        "titanic_train.family_size.describe()"
      ],
      "execution_count": 44,
      "outputs": [
        {
          "output_type": "execute_result",
          "data": {
            "text/plain": [
              "count    891.000000\n",
              "mean       0.904602\n",
              "std        1.613459\n",
              "min        0.000000\n",
              "25%        0.000000\n",
              "50%        0.000000\n",
              "75%        1.000000\n",
              "max       10.000000\n",
              "Name: family_size, dtype: float64"
            ]
          },
          "metadata": {
            "tags": []
          },
          "execution_count": 44
        }
      ]
    },
    {
      "cell_type": "code",
      "metadata": {
        "id": "zCnBy2NydS0k",
        "colab_type": "code",
        "colab": {}
      },
      "source": [
        "titanic_train['is_alone'] = titanic_train.family_size.map(lambda a: 1 if a == 0 else 0)"
      ],
      "execution_count": 45,
      "outputs": []
    },
    {
      "cell_type": "code",
      "metadata": {
        "id": "hP2hp8Msfxbi",
        "colab_type": "code",
        "colab": {
          "base_uri": "https://localhost:8080/",
          "height": 35
        },
        "outputId": "cf67ed25-2274-45cb-9530-c785adbf547b"
      },
      "source": [
        "titanic_train.is_alone.corr(titanic_train.Survived, method='spearman')"
      ],
      "execution_count": 46,
      "outputs": [
        {
          "output_type": "execute_result",
          "data": {
            "text/plain": [
              "-0.20336708569989195"
            ]
          },
          "metadata": {
            "tags": []
          },
          "execution_count": 46
        }
      ]
    },
    {
      "cell_type": "code",
      "metadata": {
        "id": "cpvyV0rAf1Mk",
        "colab_type": "code",
        "colab": {
          "base_uri": "https://localhost:8080/",
          "height": 35
        },
        "outputId": "e987e4a6-c9b4-4bed-ba3a-810d9f7cac68"
      },
      "source": [
        "titanic_train.Age.corr(titanic_train.Survived, method='spearman')"
      ],
      "execution_count": 47,
      "outputs": [
        {
          "output_type": "execute_result",
          "data": {
            "text/plain": [
              "-0.03700449741729798"
            ]
          },
          "metadata": {
            "tags": []
          },
          "execution_count": 47
        }
      ]
    },
    {
      "cell_type": "code",
      "metadata": {
        "id": "8L9OnLHQgw1h",
        "colab_type": "code",
        "colab": {}
      },
      "source": [
        "bins = [0, 5, 20, 40, 60, 90]\n",
        "titanic_train['age_bins'] = pd.cut(x=titanic_train.Age, bins= bins, labels=['0-5','5-20','20-40','40-60','60+'] )\n",
        "titanic_train = pd.get_dummies(data=titanic_train, columns = ['age_bins'], prefix='age')"
      ],
      "execution_count": 48,
      "outputs": []
    },
    {
      "cell_type": "code",
      "metadata": {
        "id": "RoqbKli9x7up",
        "colab_type": "code",
        "colab": {
          "base_uri": "https://localhost:8080/",
          "height": 303
        },
        "outputId": "d3b1ac8e-6909-4262-b1fb-f5b4e328751b"
      },
      "source": [
        "titanic_train.head(2)"
      ],
      "execution_count": 49,
      "outputs": [
        {
          "output_type": "execute_result",
          "data": {
            "text/html": [
              "<div>\n",
              "<style scoped>\n",
              "    .dataframe tbody tr th:only-of-type {\n",
              "        vertical-align: middle;\n",
              "    }\n",
              "\n",
              "    .dataframe tbody tr th {\n",
              "        vertical-align: top;\n",
              "    }\n",
              "\n",
              "    .dataframe thead th {\n",
              "        text-align: right;\n",
              "    }\n",
              "</style>\n",
              "<table border=\"1\" class=\"dataframe\">\n",
              "  <thead>\n",
              "    <tr style=\"text-align: right;\">\n",
              "      <th></th>\n",
              "      <th>PassengerId</th>\n",
              "      <th>Survived</th>\n",
              "      <th>Pclass</th>\n",
              "      <th>Name</th>\n",
              "      <th>Sex</th>\n",
              "      <th>Age</th>\n",
              "      <th>SibSp</th>\n",
              "      <th>Parch</th>\n",
              "      <th>Ticket</th>\n",
              "      <th>Fare</th>\n",
              "      <th>Cabin</th>\n",
              "      <th>Embarked</th>\n",
              "      <th>family_size</th>\n",
              "      <th>is_alone</th>\n",
              "      <th>age_0-5</th>\n",
              "      <th>age_5-20</th>\n",
              "      <th>age_20-40</th>\n",
              "      <th>age_40-60</th>\n",
              "      <th>age_60+</th>\n",
              "    </tr>\n",
              "  </thead>\n",
              "  <tbody>\n",
              "    <tr>\n",
              "      <th>0</th>\n",
              "      <td>1</td>\n",
              "      <td>0</td>\n",
              "      <td>3</td>\n",
              "      <td>Braund, Mr. Owen Harris</td>\n",
              "      <td>male</td>\n",
              "      <td>22.0</td>\n",
              "      <td>1</td>\n",
              "      <td>0</td>\n",
              "      <td>A/5 21171</td>\n",
              "      <td>7.2500</td>\n",
              "      <td>NaN</td>\n",
              "      <td>S</td>\n",
              "      <td>1</td>\n",
              "      <td>0</td>\n",
              "      <td>0</td>\n",
              "      <td>0</td>\n",
              "      <td>1</td>\n",
              "      <td>0</td>\n",
              "      <td>0</td>\n",
              "    </tr>\n",
              "    <tr>\n",
              "      <th>1</th>\n",
              "      <td>2</td>\n",
              "      <td>1</td>\n",
              "      <td>1</td>\n",
              "      <td>Cumings, Mrs. John Bradley (Florence Briggs Th...</td>\n",
              "      <td>female</td>\n",
              "      <td>38.0</td>\n",
              "      <td>1</td>\n",
              "      <td>0</td>\n",
              "      <td>PC 17599</td>\n",
              "      <td>71.2833</td>\n",
              "      <td>C85</td>\n",
              "      <td>C</td>\n",
              "      <td>1</td>\n",
              "      <td>0</td>\n",
              "      <td>0</td>\n",
              "      <td>0</td>\n",
              "      <td>1</td>\n",
              "      <td>0</td>\n",
              "      <td>0</td>\n",
              "    </tr>\n",
              "  </tbody>\n",
              "</table>\n",
              "</div>"
            ],
            "text/plain": [
              "   PassengerId  Survived  Pclass  ... age_20-40 age_40-60  age_60+\n",
              "0            1         0       3  ...         1         0        0\n",
              "1            2         1       1  ...         1         0        0\n",
              "\n",
              "[2 rows x 19 columns]"
            ]
          },
          "metadata": {
            "tags": []
          },
          "execution_count": 49
        }
      ]
    },
    {
      "cell_type": "code",
      "metadata": {
        "id": "74viBk2niJhP",
        "colab_type": "code",
        "colab": {
          "base_uri": "https://localhost:8080/",
          "height": 35
        },
        "outputId": "7e40cd72-1cdf-4536-fe8b-6b6d8c8e8bd8"
      },
      "source": [
        "titanic_train.Fare.corr(titanic_train.Survived, method='spearman')"
      ],
      "execution_count": 50,
      "outputs": [
        {
          "output_type": "execute_result",
          "data": {
            "text/plain": [
              "0.32373613944480834"
            ]
          },
          "metadata": {
            "tags": []
          },
          "execution_count": 50
        }
      ]
    },
    {
      "cell_type": "code",
      "metadata": {
        "id": "NeZbR8jxqSlr",
        "colab_type": "code",
        "colab": {}
      },
      "source": [
        "titanic_train = pd.get_dummies(data=titanic_train, columns=['Embarked'], prefix='embarked')"
      ],
      "execution_count": 51,
      "outputs": []
    },
    {
      "cell_type": "code",
      "metadata": {
        "id": "fz2402FWrpOt",
        "colab_type": "code",
        "colab": {}
      },
      "source": [
        "titanic_train = pd.get_dummies(data=titanic_train, columns=['Sex'])"
      ],
      "execution_count": 52,
      "outputs": []
    },
    {
      "cell_type": "code",
      "metadata": {
        "id": "EW8lQsUgo-rr",
        "colab_type": "code",
        "colab": {
          "base_uri": "https://localhost:8080/",
          "height": 35
        },
        "outputId": "7c8ed721-043d-43a3-980b-0c9b060d31c1"
      },
      "source": [
        "std_fare = StandardScaler()\n",
        "std_fare.fit(titanic_train.Fare.values.reshape(-1,1))"
      ],
      "execution_count": 53,
      "outputs": [
        {
          "output_type": "execute_result",
          "data": {
            "text/plain": [
              "StandardScaler(copy=True, with_mean=True, with_std=True)"
            ]
          },
          "metadata": {
            "tags": []
          },
          "execution_count": 53
        }
      ]
    },
    {
      "cell_type": "code",
      "metadata": {
        "id": "T430SyoBiM27",
        "colab_type": "code",
        "colab": {}
      },
      "source": [
        "titanic_train['std_fare'] = std_fare.transform(titanic_train.Fare.values.reshape(-1,1))"
      ],
      "execution_count": 54,
      "outputs": []
    },
    {
      "cell_type": "code",
      "metadata": {
        "id": "TKEEa9cYprIp",
        "colab_type": "code",
        "colab": {
          "base_uri": "https://localhost:8080/",
          "height": 104
        },
        "outputId": "850ca76a-f1ab-4797-aa90-c96496abaaa9"
      },
      "source": [
        "titanic_train.columns"
      ],
      "execution_count": 55,
      "outputs": [
        {
          "output_type": "execute_result",
          "data": {
            "text/plain": [
              "Index(['PassengerId', 'Survived', 'Pclass', 'Name', 'Age', 'SibSp', 'Parch',\n",
              "       'Ticket', 'Fare', 'Cabin', 'family_size', 'is_alone', 'age_0-5',\n",
              "       'age_5-20', 'age_20-40', 'age_40-60', 'age_60+', 'embarked_C',\n",
              "       'embarked_Q', 'embarked_S', 'Sex_female', 'Sex_male', 'std_fare'],\n",
              "      dtype='object')"
            ]
          },
          "metadata": {
            "tags": []
          },
          "execution_count": 55
        }
      ]
    },
    {
      "cell_type": "code",
      "metadata": {
        "id": "_t_7LGwNpuIM",
        "colab_type": "code",
        "colab": {}
      },
      "source": [
        "titanic_train.drop(labels=['PassengerId','Name','Ticket','Cabin','Fare'], axis=1, inplace=True)"
      ],
      "execution_count": 56,
      "outputs": []
    },
    {
      "cell_type": "code",
      "metadata": {
        "id": "yr-8Dfa_qjiN",
        "colab_type": "code",
        "colab": {
          "base_uri": "https://localhost:8080/",
          "height": 239
        },
        "outputId": "361eca53-c009-4dec-f74d-444aad73c76d"
      },
      "source": [
        "titanic_train.head()"
      ],
      "execution_count": 57,
      "outputs": [
        {
          "output_type": "execute_result",
          "data": {
            "text/html": [
              "<div>\n",
              "<style scoped>\n",
              "    .dataframe tbody tr th:only-of-type {\n",
              "        vertical-align: middle;\n",
              "    }\n",
              "\n",
              "    .dataframe tbody tr th {\n",
              "        vertical-align: top;\n",
              "    }\n",
              "\n",
              "    .dataframe thead th {\n",
              "        text-align: right;\n",
              "    }\n",
              "</style>\n",
              "<table border=\"1\" class=\"dataframe\">\n",
              "  <thead>\n",
              "    <tr style=\"text-align: right;\">\n",
              "      <th></th>\n",
              "      <th>Survived</th>\n",
              "      <th>Pclass</th>\n",
              "      <th>Age</th>\n",
              "      <th>SibSp</th>\n",
              "      <th>Parch</th>\n",
              "      <th>family_size</th>\n",
              "      <th>is_alone</th>\n",
              "      <th>age_0-5</th>\n",
              "      <th>age_5-20</th>\n",
              "      <th>age_20-40</th>\n",
              "      <th>age_40-60</th>\n",
              "      <th>age_60+</th>\n",
              "      <th>embarked_C</th>\n",
              "      <th>embarked_Q</th>\n",
              "      <th>embarked_S</th>\n",
              "      <th>Sex_female</th>\n",
              "      <th>Sex_male</th>\n",
              "      <th>std_fare</th>\n",
              "    </tr>\n",
              "  </thead>\n",
              "  <tbody>\n",
              "    <tr>\n",
              "      <th>0</th>\n",
              "      <td>0</td>\n",
              "      <td>3</td>\n",
              "      <td>22.0</td>\n",
              "      <td>1</td>\n",
              "      <td>0</td>\n",
              "      <td>1</td>\n",
              "      <td>0</td>\n",
              "      <td>0</td>\n",
              "      <td>0</td>\n",
              "      <td>1</td>\n",
              "      <td>0</td>\n",
              "      <td>0</td>\n",
              "      <td>0</td>\n",
              "      <td>0</td>\n",
              "      <td>1</td>\n",
              "      <td>0</td>\n",
              "      <td>1</td>\n",
              "      <td>-0.502445</td>\n",
              "    </tr>\n",
              "    <tr>\n",
              "      <th>1</th>\n",
              "      <td>1</td>\n",
              "      <td>1</td>\n",
              "      <td>38.0</td>\n",
              "      <td>1</td>\n",
              "      <td>0</td>\n",
              "      <td>1</td>\n",
              "      <td>0</td>\n",
              "      <td>0</td>\n",
              "      <td>0</td>\n",
              "      <td>1</td>\n",
              "      <td>0</td>\n",
              "      <td>0</td>\n",
              "      <td>1</td>\n",
              "      <td>0</td>\n",
              "      <td>0</td>\n",
              "      <td>1</td>\n",
              "      <td>0</td>\n",
              "      <td>0.786845</td>\n",
              "    </tr>\n",
              "    <tr>\n",
              "      <th>2</th>\n",
              "      <td>1</td>\n",
              "      <td>3</td>\n",
              "      <td>26.0</td>\n",
              "      <td>0</td>\n",
              "      <td>0</td>\n",
              "      <td>0</td>\n",
              "      <td>1</td>\n",
              "      <td>0</td>\n",
              "      <td>0</td>\n",
              "      <td>1</td>\n",
              "      <td>0</td>\n",
              "      <td>0</td>\n",
              "      <td>0</td>\n",
              "      <td>0</td>\n",
              "      <td>1</td>\n",
              "      <td>1</td>\n",
              "      <td>0</td>\n",
              "      <td>-0.488854</td>\n",
              "    </tr>\n",
              "    <tr>\n",
              "      <th>3</th>\n",
              "      <td>1</td>\n",
              "      <td>1</td>\n",
              "      <td>35.0</td>\n",
              "      <td>1</td>\n",
              "      <td>0</td>\n",
              "      <td>1</td>\n",
              "      <td>0</td>\n",
              "      <td>0</td>\n",
              "      <td>0</td>\n",
              "      <td>1</td>\n",
              "      <td>0</td>\n",
              "      <td>0</td>\n",
              "      <td>0</td>\n",
              "      <td>0</td>\n",
              "      <td>1</td>\n",
              "      <td>1</td>\n",
              "      <td>0</td>\n",
              "      <td>0.420730</td>\n",
              "    </tr>\n",
              "    <tr>\n",
              "      <th>4</th>\n",
              "      <td>0</td>\n",
              "      <td>3</td>\n",
              "      <td>35.0</td>\n",
              "      <td>0</td>\n",
              "      <td>0</td>\n",
              "      <td>0</td>\n",
              "      <td>1</td>\n",
              "      <td>0</td>\n",
              "      <td>0</td>\n",
              "      <td>1</td>\n",
              "      <td>0</td>\n",
              "      <td>0</td>\n",
              "      <td>0</td>\n",
              "      <td>0</td>\n",
              "      <td>1</td>\n",
              "      <td>0</td>\n",
              "      <td>1</td>\n",
              "      <td>-0.486337</td>\n",
              "    </tr>\n",
              "  </tbody>\n",
              "</table>\n",
              "</div>"
            ],
            "text/plain": [
              "   Survived  Pclass   Age  SibSp  ...  embarked_S  Sex_female  Sex_male  std_fare\n",
              "0         0       3  22.0      1  ...           1           0         1 -0.502445\n",
              "1         1       1  38.0      1  ...           0           1         0  0.786845\n",
              "2         1       3  26.0      0  ...           1           1         0 -0.488854\n",
              "3         1       1  35.0      1  ...           1           1         0  0.420730\n",
              "4         0       3  35.0      0  ...           1           0         1 -0.486337\n",
              "\n",
              "[5 rows x 18 columns]"
            ]
          },
          "metadata": {
            "tags": []
          },
          "execution_count": 57
        }
      ]
    },
    {
      "cell_type": "code",
      "metadata": {
        "id": "eCHFEe3Sqm5Y",
        "colab_type": "code",
        "colab": {
          "base_uri": "https://localhost:8080/",
          "height": 638
        },
        "outputId": "92606917-d5a3-44ef-8c07-f6b02584aadc"
      },
      "source": [
        "titanic_train.corr()"
      ],
      "execution_count": 58,
      "outputs": [
        {
          "output_type": "execute_result",
          "data": {
            "text/html": [
              "<div>\n",
              "<style scoped>\n",
              "    .dataframe tbody tr th:only-of-type {\n",
              "        vertical-align: middle;\n",
              "    }\n",
              "\n",
              "    .dataframe tbody tr th {\n",
              "        vertical-align: top;\n",
              "    }\n",
              "\n",
              "    .dataframe thead th {\n",
              "        text-align: right;\n",
              "    }\n",
              "</style>\n",
              "<table border=\"1\" class=\"dataframe\">\n",
              "  <thead>\n",
              "    <tr style=\"text-align: right;\">\n",
              "      <th></th>\n",
              "      <th>Survived</th>\n",
              "      <th>Pclass</th>\n",
              "      <th>Age</th>\n",
              "      <th>SibSp</th>\n",
              "      <th>Parch</th>\n",
              "      <th>family_size</th>\n",
              "      <th>is_alone</th>\n",
              "      <th>age_0-5</th>\n",
              "      <th>age_5-20</th>\n",
              "      <th>age_20-40</th>\n",
              "      <th>age_40-60</th>\n",
              "      <th>age_60+</th>\n",
              "      <th>embarked_C</th>\n",
              "      <th>embarked_Q</th>\n",
              "      <th>embarked_S</th>\n",
              "      <th>Sex_female</th>\n",
              "      <th>Sex_male</th>\n",
              "      <th>std_fare</th>\n",
              "    </tr>\n",
              "  </thead>\n",
              "  <tbody>\n",
              "    <tr>\n",
              "      <th>Survived</th>\n",
              "      <td>1.000000</td>\n",
              "      <td>-0.338481</td>\n",
              "      <td>-0.064910</td>\n",
              "      <td>-0.035322</td>\n",
              "      <td>0.081629</td>\n",
              "      <td>0.016639</td>\n",
              "      <td>-0.203367</td>\n",
              "      <td>0.150304</td>\n",
              "      <td>-0.005266</td>\n",
              "      <td>-0.051250</td>\n",
              "      <td>0.005716</td>\n",
              "      <td>-0.051224</td>\n",
              "      <td>0.168240</td>\n",
              "      <td>0.003650</td>\n",
              "      <td>-0.155660</td>\n",
              "      <td>0.543351</td>\n",
              "      <td>-0.543351</td>\n",
              "      <td>0.257307</td>\n",
              "    </tr>\n",
              "    <tr>\n",
              "      <th>Pclass</th>\n",
              "      <td>-0.338481</td>\n",
              "      <td>1.000000</td>\n",
              "      <td>-0.339898</td>\n",
              "      <td>0.083081</td>\n",
              "      <td>0.018443</td>\n",
              "      <td>0.065997</td>\n",
              "      <td>0.135207</td>\n",
              "      <td>0.070793</td>\n",
              "      <td>0.132360</td>\n",
              "      <td>0.098922</td>\n",
              "      <td>-0.254680</td>\n",
              "      <td>-0.136667</td>\n",
              "      <td>-0.243292</td>\n",
              "      <td>0.221009</td>\n",
              "      <td>0.081720</td>\n",
              "      <td>-0.131900</td>\n",
              "      <td>0.131900</td>\n",
              "      <td>-0.549500</td>\n",
              "    </tr>\n",
              "    <tr>\n",
              "      <th>Age</th>\n",
              "      <td>-0.064910</td>\n",
              "      <td>-0.339898</td>\n",
              "      <td>1.000000</td>\n",
              "      <td>-0.233296</td>\n",
              "      <td>-0.172482</td>\n",
              "      <td>-0.245619</td>\n",
              "      <td>0.171647</td>\n",
              "      <td>-0.470432</td>\n",
              "      <td>-0.435240</td>\n",
              "      <td>-0.047309</td>\n",
              "      <td>0.602286</td>\n",
              "      <td>0.448281</td>\n",
              "      <td>0.030248</td>\n",
              "      <td>-0.031415</td>\n",
              "      <td>-0.014665</td>\n",
              "      <td>-0.081163</td>\n",
              "      <td>0.081163</td>\n",
              "      <td>0.096688</td>\n",
              "    </tr>\n",
              "    <tr>\n",
              "      <th>SibSp</th>\n",
              "      <td>-0.035322</td>\n",
              "      <td>0.083081</td>\n",
              "      <td>-0.233296</td>\n",
              "      <td>1.000000</td>\n",
              "      <td>0.414838</td>\n",
              "      <td>0.890712</td>\n",
              "      <td>-0.584471</td>\n",
              "      <td>0.244344</td>\n",
              "      <td>0.114725</td>\n",
              "      <td>-0.130679</td>\n",
              "      <td>-0.063714</td>\n",
              "      <td>-0.055819</td>\n",
              "      <td>-0.059528</td>\n",
              "      <td>-0.026354</td>\n",
              "      <td>0.070941</td>\n",
              "      <td>0.114631</td>\n",
              "      <td>-0.114631</td>\n",
              "      <td>0.159651</td>\n",
              "    </tr>\n",
              "    <tr>\n",
              "      <th>Parch</th>\n",
              "      <td>0.081629</td>\n",
              "      <td>0.018443</td>\n",
              "      <td>-0.172482</td>\n",
              "      <td>0.414838</td>\n",
              "      <td>1.000000</td>\n",
              "      <td>0.783111</td>\n",
              "      <td>-0.583398</td>\n",
              "      <td>0.277839</td>\n",
              "      <td>0.095137</td>\n",
              "      <td>-0.191842</td>\n",
              "      <td>0.004592</td>\n",
              "      <td>-0.021502</td>\n",
              "      <td>-0.011069</td>\n",
              "      <td>-0.081228</td>\n",
              "      <td>0.063036</td>\n",
              "      <td>0.245489</td>\n",
              "      <td>-0.245489</td>\n",
              "      <td>0.216225</td>\n",
              "    </tr>\n",
              "    <tr>\n",
              "      <th>family_size</th>\n",
              "      <td>0.016639</td>\n",
              "      <td>0.065997</td>\n",
              "      <td>-0.245619</td>\n",
              "      <td>0.890712</td>\n",
              "      <td>0.783111</td>\n",
              "      <td>1.000000</td>\n",
              "      <td>-0.690922</td>\n",
              "      <td>0.305804</td>\n",
              "      <td>0.125939</td>\n",
              "      <td>-0.185156</td>\n",
              "      <td>-0.041253</td>\n",
              "      <td>-0.048892</td>\n",
              "      <td>-0.046215</td>\n",
              "      <td>-0.058592</td>\n",
              "      <td>0.079977</td>\n",
              "      <td>0.200988</td>\n",
              "      <td>-0.200988</td>\n",
              "      <td>0.217138</td>\n",
              "    </tr>\n",
              "    <tr>\n",
              "      <th>is_alone</th>\n",
              "      <td>-0.203367</td>\n",
              "      <td>0.135207</td>\n",
              "      <td>0.171647</td>\n",
              "      <td>-0.584471</td>\n",
              "      <td>-0.583398</td>\n",
              "      <td>-0.690922</td>\n",
              "      <td>1.000000</td>\n",
              "      <td>-0.270132</td>\n",
              "      <td>-0.104675</td>\n",
              "      <td>0.205718</td>\n",
              "      <td>-0.040182</td>\n",
              "      <td>0.070067</td>\n",
              "      <td>-0.095298</td>\n",
              "      <td>0.086464</td>\n",
              "      <td>0.024929</td>\n",
              "      <td>-0.303646</td>\n",
              "      <td>0.303646</td>\n",
              "      <td>-0.271832</td>\n",
              "    </tr>\n",
              "    <tr>\n",
              "      <th>age_0-5</th>\n",
              "      <td>0.150304</td>\n",
              "      <td>0.070793</td>\n",
              "      <td>-0.470432</td>\n",
              "      <td>0.244344</td>\n",
              "      <td>0.277839</td>\n",
              "      <td>0.305804</td>\n",
              "      <td>-0.270132</td>\n",
              "      <td>1.000000</td>\n",
              "      <td>-0.096314</td>\n",
              "      <td>-0.297889</td>\n",
              "      <td>-0.093353</td>\n",
              "      <td>-0.036265</td>\n",
              "      <td>-0.003924</td>\n",
              "      <td>-0.033229</td>\n",
              "      <td>0.025430</td>\n",
              "      <td>0.059571</td>\n",
              "      <td>-0.059571</td>\n",
              "      <td>-0.003103</td>\n",
              "    </tr>\n",
              "    <tr>\n",
              "      <th>age_5-20</th>\n",
              "      <td>-0.005266</td>\n",
              "      <td>0.132360</td>\n",
              "      <td>-0.435240</td>\n",
              "      <td>0.114725</td>\n",
              "      <td>0.095137</td>\n",
              "      <td>0.125939</td>\n",
              "      <td>-0.104675</td>\n",
              "      <td>-0.096314</td>\n",
              "      <td>1.000000</td>\n",
              "      <td>-0.552301</td>\n",
              "      <td>-0.173081</td>\n",
              "      <td>-0.067237</td>\n",
              "      <td>-0.011640</td>\n",
              "      <td>-0.040847</td>\n",
              "      <td>0.037931</td>\n",
              "      <td>0.055199</td>\n",
              "      <td>-0.055199</td>\n",
              "      <td>-0.024649</td>\n",
              "    </tr>\n",
              "    <tr>\n",
              "      <th>age_20-40</th>\n",
              "      <td>-0.051250</td>\n",
              "      <td>0.098922</td>\n",
              "      <td>-0.047309</td>\n",
              "      <td>-0.130679</td>\n",
              "      <td>-0.191842</td>\n",
              "      <td>-0.185156</td>\n",
              "      <td>0.205718</td>\n",
              "      <td>-0.297889</td>\n",
              "      <td>-0.552301</td>\n",
              "      <td>1.000000</td>\n",
              "      <td>-0.535319</td>\n",
              "      <td>-0.207956</td>\n",
              "      <td>-0.005745</td>\n",
              "      <td>0.111173</td>\n",
              "      <td>-0.063406</td>\n",
              "      <td>-0.044086</td>\n",
              "      <td>0.044086</td>\n",
              "      <td>-0.050536</td>\n",
              "    </tr>\n",
              "    <tr>\n",
              "      <th>age_40-60</th>\n",
              "      <td>0.005716</td>\n",
              "      <td>-0.254680</td>\n",
              "      <td>0.602286</td>\n",
              "      <td>-0.063714</td>\n",
              "      <td>0.004592</td>\n",
              "      <td>-0.041253</td>\n",
              "      <td>-0.040182</td>\n",
              "      <td>-0.093353</td>\n",
              "      <td>-0.173081</td>\n",
              "      <td>-0.535319</td>\n",
              "      <td>1.000000</td>\n",
              "      <td>-0.065169</td>\n",
              "      <td>0.031621</td>\n",
              "      <td>-0.091808</td>\n",
              "      <td>0.032052</td>\n",
              "      <td>-0.000729</td>\n",
              "      <td>0.000729</td>\n",
              "      <td>0.083656</td>\n",
              "    </tr>\n",
              "    <tr>\n",
              "      <th>age_60+</th>\n",
              "      <td>-0.051224</td>\n",
              "      <td>-0.136667</td>\n",
              "      <td>0.448281</td>\n",
              "      <td>-0.055819</td>\n",
              "      <td>-0.021502</td>\n",
              "      <td>-0.048892</td>\n",
              "      <td>0.070067</td>\n",
              "      <td>-0.036265</td>\n",
              "      <td>-0.067237</td>\n",
              "      <td>-0.207956</td>\n",
              "      <td>-0.065169</td>\n",
              "      <td>1.000000</td>\n",
              "      <td>-0.021229</td>\n",
              "      <td>0.002542</td>\n",
              "      <td>0.001596</td>\n",
              "      <td>-0.071958</td>\n",
              "      <td>0.071958</td>\n",
              "      <td>0.029368</td>\n",
              "    </tr>\n",
              "    <tr>\n",
              "      <th>embarked_C</th>\n",
              "      <td>0.168240</td>\n",
              "      <td>-0.243292</td>\n",
              "      <td>0.030248</td>\n",
              "      <td>-0.059528</td>\n",
              "      <td>-0.011069</td>\n",
              "      <td>-0.046215</td>\n",
              "      <td>-0.095298</td>\n",
              "      <td>-0.003924</td>\n",
              "      <td>-0.011640</td>\n",
              "      <td>-0.005745</td>\n",
              "      <td>0.031621</td>\n",
              "      <td>-0.021229</td>\n",
              "      <td>1.000000</td>\n",
              "      <td>-0.148258</td>\n",
              "      <td>-0.778359</td>\n",
              "      <td>0.082853</td>\n",
              "      <td>-0.082853</td>\n",
              "      <td>0.269335</td>\n",
              "    </tr>\n",
              "    <tr>\n",
              "      <th>embarked_Q</th>\n",
              "      <td>0.003650</td>\n",
              "      <td>0.221009</td>\n",
              "      <td>-0.031415</td>\n",
              "      <td>-0.026354</td>\n",
              "      <td>-0.081228</td>\n",
              "      <td>-0.058592</td>\n",
              "      <td>0.086464</td>\n",
              "      <td>-0.033229</td>\n",
              "      <td>-0.040847</td>\n",
              "      <td>0.111173</td>\n",
              "      <td>-0.091808</td>\n",
              "      <td>0.002542</td>\n",
              "      <td>-0.148258</td>\n",
              "      <td>1.000000</td>\n",
              "      <td>-0.496624</td>\n",
              "      <td>0.074115</td>\n",
              "      <td>-0.074115</td>\n",
              "      <td>-0.117216</td>\n",
              "    </tr>\n",
              "    <tr>\n",
              "      <th>embarked_S</th>\n",
              "      <td>-0.155660</td>\n",
              "      <td>0.081720</td>\n",
              "      <td>-0.014665</td>\n",
              "      <td>0.070941</td>\n",
              "      <td>0.063036</td>\n",
              "      <td>0.079977</td>\n",
              "      <td>0.024929</td>\n",
              "      <td>0.025430</td>\n",
              "      <td>0.037931</td>\n",
              "      <td>-0.063406</td>\n",
              "      <td>0.032052</td>\n",
              "      <td>0.001596</td>\n",
              "      <td>-0.778359</td>\n",
              "      <td>-0.496624</td>\n",
              "      <td>1.000000</td>\n",
              "      <td>-0.125722</td>\n",
              "      <td>0.125722</td>\n",
              "      <td>-0.166603</td>\n",
              "    </tr>\n",
              "    <tr>\n",
              "      <th>Sex_female</th>\n",
              "      <td>0.543351</td>\n",
              "      <td>-0.131900</td>\n",
              "      <td>-0.081163</td>\n",
              "      <td>0.114631</td>\n",
              "      <td>0.245489</td>\n",
              "      <td>0.200988</td>\n",
              "      <td>-0.303646</td>\n",
              "      <td>0.059571</td>\n",
              "      <td>0.055199</td>\n",
              "      <td>-0.044086</td>\n",
              "      <td>-0.000729</td>\n",
              "      <td>-0.071958</td>\n",
              "      <td>0.082853</td>\n",
              "      <td>0.074115</td>\n",
              "      <td>-0.125722</td>\n",
              "      <td>1.000000</td>\n",
              "      <td>-1.000000</td>\n",
              "      <td>0.182333</td>\n",
              "    </tr>\n",
              "    <tr>\n",
              "      <th>Sex_male</th>\n",
              "      <td>-0.543351</td>\n",
              "      <td>0.131900</td>\n",
              "      <td>0.081163</td>\n",
              "      <td>-0.114631</td>\n",
              "      <td>-0.245489</td>\n",
              "      <td>-0.200988</td>\n",
              "      <td>0.303646</td>\n",
              "      <td>-0.059571</td>\n",
              "      <td>-0.055199</td>\n",
              "      <td>0.044086</td>\n",
              "      <td>0.000729</td>\n",
              "      <td>0.071958</td>\n",
              "      <td>-0.082853</td>\n",
              "      <td>-0.074115</td>\n",
              "      <td>0.125722</td>\n",
              "      <td>-1.000000</td>\n",
              "      <td>1.000000</td>\n",
              "      <td>-0.182333</td>\n",
              "    </tr>\n",
              "    <tr>\n",
              "      <th>std_fare</th>\n",
              "      <td>0.257307</td>\n",
              "      <td>-0.549500</td>\n",
              "      <td>0.096688</td>\n",
              "      <td>0.159651</td>\n",
              "      <td>0.216225</td>\n",
              "      <td>0.217138</td>\n",
              "      <td>-0.271832</td>\n",
              "      <td>-0.003103</td>\n",
              "      <td>-0.024649</td>\n",
              "      <td>-0.050536</td>\n",
              "      <td>0.083656</td>\n",
              "      <td>0.029368</td>\n",
              "      <td>0.269335</td>\n",
              "      <td>-0.117216</td>\n",
              "      <td>-0.166603</td>\n",
              "      <td>0.182333</td>\n",
              "      <td>-0.182333</td>\n",
              "      <td>1.000000</td>\n",
              "    </tr>\n",
              "  </tbody>\n",
              "</table>\n",
              "</div>"
            ],
            "text/plain": [
              "             Survived    Pclass       Age  ...  Sex_female  Sex_male  std_fare\n",
              "Survived     1.000000 -0.338481 -0.064910  ...    0.543351 -0.543351  0.257307\n",
              "Pclass      -0.338481  1.000000 -0.339898  ...   -0.131900  0.131900 -0.549500\n",
              "Age         -0.064910 -0.339898  1.000000  ...   -0.081163  0.081163  0.096688\n",
              "SibSp       -0.035322  0.083081 -0.233296  ...    0.114631 -0.114631  0.159651\n",
              "Parch        0.081629  0.018443 -0.172482  ...    0.245489 -0.245489  0.216225\n",
              "family_size  0.016639  0.065997 -0.245619  ...    0.200988 -0.200988  0.217138\n",
              "is_alone    -0.203367  0.135207  0.171647  ...   -0.303646  0.303646 -0.271832\n",
              "age_0-5      0.150304  0.070793 -0.470432  ...    0.059571 -0.059571 -0.003103\n",
              "age_5-20    -0.005266  0.132360 -0.435240  ...    0.055199 -0.055199 -0.024649\n",
              "age_20-40   -0.051250  0.098922 -0.047309  ...   -0.044086  0.044086 -0.050536\n",
              "age_40-60    0.005716 -0.254680  0.602286  ...   -0.000729  0.000729  0.083656\n",
              "age_60+     -0.051224 -0.136667  0.448281  ...   -0.071958  0.071958  0.029368\n",
              "embarked_C   0.168240 -0.243292  0.030248  ...    0.082853 -0.082853  0.269335\n",
              "embarked_Q   0.003650  0.221009 -0.031415  ...    0.074115 -0.074115 -0.117216\n",
              "embarked_S  -0.155660  0.081720 -0.014665  ...   -0.125722  0.125722 -0.166603\n",
              "Sex_female   0.543351 -0.131900 -0.081163  ...    1.000000 -1.000000  0.182333\n",
              "Sex_male    -0.543351  0.131900  0.081163  ...   -1.000000  1.000000 -0.182333\n",
              "std_fare     0.257307 -0.549500  0.096688  ...    0.182333 -0.182333  1.000000\n",
              "\n",
              "[18 rows x 18 columns]"
            ]
          },
          "metadata": {
            "tags": []
          },
          "execution_count": 58
        }
      ]
    },
    {
      "cell_type": "code",
      "metadata": {
        "id": "4UgnXxA2sDwi",
        "colab_type": "code",
        "colab": {
          "base_uri": "https://localhost:8080/",
          "height": 510
        },
        "outputId": "67fef44c-4e35-4628-a16d-a5902f495bc5"
      },
      "source": [
        "plt.figure(figsize=(20,10))\n",
        "sns.heatmap(titanic_train.corr(), annot=True)\n",
        "plt.show()"
      ],
      "execution_count": 59,
      "outputs": [
        {
          "output_type": "display_data",
          "data": {
            "image/png": "[encoded data removed]",
            "text/plain": [
              "<Figure size 1440x720 with 2 Axes>"
            ]
          },
          "metadata": {
            "tags": [],
            "needs_background": "light"
          }
        }
      ]
    },
    {
      "cell_type": "code",
      "metadata": {
        "id": "ERCzX3UrslMP",
        "colab_type": "code",
        "colab": {}
      },
      "source": [
        "y = titanic_train.Survived\n",
        "X = titanic_train.drop(labels=['Survived'], axis=1)"
      ],
      "execution_count": 60,
      "outputs": []
    },
    {
      "cell_type": "code",
      "metadata": {
        "id": "sYytW_w0tmQr",
        "colab_type": "code",
        "colab": {}
      },
      "source": [
        "from sklearn.model_selection import train_test_split\n",
        "from sklearn.linear_model import LogisticRegression\n",
        "from sklearn.metrics import auc, roc_auc_score, f1_score, roc_curve\n",
        "from sklearn.model_selection import GridSearchCV"
      ],
      "execution_count": 72,
      "outputs": []
    },
    {
      "cell_type": "code",
      "metadata": {
        "id": "-RToCxqDtnqG",
        "colab_type": "code",
        "colab": {}
      },
      "source": [
        "X_train, X_test, y_train, y_test = train_test_split(X, y, test_size=0.3)"
      ],
      "execution_count": 62,
      "outputs": []
    },
    {
      "cell_type": "code",
      "metadata": {
        "id": "6_Q5370guTvT",
        "colab_type": "code",
        "colab": {
          "base_uri": "https://localhost:8080/",
          "height": 52
        },
        "outputId": "3027ae23-97a3-45cd-e1c1-3b0a124684a9"
      },
      "source": [
        "lreg = LogisticRegression()\n",
        "lreg.fit(X_train, y_train)\n",
        "train_predictions = lreg.predict(X_train)\n",
        "train_fpr, train_tpr, threshold = roc_curve(y_train, train_predictions)\n",
        "train_score = auc(train_fpr, train_tpr)\n",
        "test_predictions = lreg.predict(X_test)\n",
        "test_fpr, test_tpr, threshold = roc_curve(y_test, test_predictions)\n",
        "test_score = auc(test_fpr, test_tpr)\n",
        "\n",
        "print(train_score)\n",
        "print(test_score)"
      ],
      "execution_count": 71,
      "outputs": [
        {
          "output_type": "stream",
          "text": [
            "0.8049319617864613\n",
            "0.767078488372093\n"
          ],
          "name": "stdout"
        }
      ]
    },
    {
      "cell_type": "code",
      "metadata": {
        "id": "ySzXvmHXuV1L",
        "colab_type": "code",
        "colab": {}
      },
      "source": [
        "param_grid = {'C': [0.001, 0.01, 0.1, 1, 10, 100, 1000] }\n",
        "grid = GridSearchCV(estimator=lreg, param_grid=param_grid, n_jobs=-1, cv=5, verbose=1, return_train_score=True, scoring='roc_auc')"
      ],
      "execution_count": 77,
      "outputs": []
    },
    {
      "cell_type": "code",
      "metadata": {
        "id": "w7yyPJdQzowx",
        "colab_type": "code",
        "colab": {
          "base_uri": "https://localhost:8080/",
          "height": 295
        },
        "outputId": "023cc79b-22c6-4104-b790-0a0884b26c79"
      },
      "source": [
        "grid.fit(X_train, y_train)"
      ],
      "execution_count": 78,
      "outputs": [
        {
          "output_type": "stream",
          "text": [
            "Fitting 5 folds for each of 7 candidates, totalling 35 fits\n"
          ],
          "name": "stdout"
        },
        {
          "output_type": "stream",
          "text": [
            "[Parallel(n_jobs=-1)]: Using backend LokyBackend with 2 concurrent workers.\n",
            "[Parallel(n_jobs=-1)]: Done  35 out of  35 | elapsed:    2.3s finished\n"
          ],
          "name": "stderr"
        },
        {
          "output_type": "execute_result",
          "data": {
            "text/plain": [
              "GridSearchCV(cv=5, error_score=nan,\n",
              "             estimator=LogisticRegression(C=1.0, class_weight=None, dual=False,\n",
              "                                          fit_intercept=True,\n",
              "                                          intercept_scaling=1, l1_ratio=None,\n",
              "                                          max_iter=100, multi_class='auto',\n",
              "                                          n_jobs=None, penalty='l2',\n",
              "                                          random_state=None, solver='lbfgs',\n",
              "                                          tol=0.0001, verbose=0,\n",
              "                                          warm_start=False),\n",
              "             iid='deprecated', n_jobs=-1,\n",
              "             param_grid={'C': [0.001, 0.01, 0.1, 1, 10, 100, 1000]},\n",
              "             pre_dispatch='2*n_jobs', refit=True, return_train_score=True,\n",
              "             scoring='roc_auc', verbose=1)"
            ]
          },
          "metadata": {
            "tags": []
          },
          "execution_count": 78
        }
      ]
    },
    {
      "cell_type": "code",
      "metadata": {
        "id": "GXKA3Xzlzq1S",
        "colab_type": "code",
        "colab": {
          "base_uri": "https://localhost:8080/",
          "height": 35
        },
        "outputId": "5210e085-86c4-4d7f-f280-87a007afc0db"
      },
      "source": [
        "grid.best_score_"
      ],
      "execution_count": 79,
      "outputs": [
        {
          "output_type": "execute_result",
          "data": {
            "text/plain": [
              "0.8642200358037953"
            ]
          },
          "metadata": {
            "tags": []
          },
          "execution_count": 79
        }
      ]
    },
    {
      "cell_type": "code",
      "metadata": {
        "id": "ciBpvRKvgoOO",
        "colab_type": "code",
        "colab": {
          "base_uri": "https://localhost:8080/",
          "height": 849
        },
        "outputId": "89abb81f-d8cc-42c2-9db8-29afa3b7b778"
      },
      "source": [
        "grid.cv_results_"
      ],
      "execution_count": 85,
      "outputs": [
        {
          "output_type": "execute_result",
          "data": {
            "text/plain": [
              "{'mean_fit_time': array([0.01724925, 0.02582455, 0.04694347, 0.04851322, 0.0495007 ,\n",
              "        0.04784551, 0.04470539]),\n",
              " 'mean_score_time': array([0.00360708, 0.00322862, 0.00366902, 0.00333681, 0.00331421,\n",
              "        0.00337868, 0.00309763]),\n",
              " 'mean_test_score': array([0.76187884, 0.85890145, 0.86370692, 0.86201687, 0.86334422,\n",
              "        0.86422004, 0.86319255]),\n",
              " 'mean_train_score': array([0.77706059, 0.86073622, 0.86921779, 0.87303258, 0.87436214,\n",
              "        0.87489724, 0.87496455]),\n",
              " 'param_C': masked_array(data=[0.001, 0.01, 0.1, 1, 10, 100, 1000],\n",
              "              mask=[False, False, False, False, False, False, False],\n",
              "        fill_value='?',\n",
              "             dtype=object),\n",
              " 'params': [{'C': 0.001},\n",
              "  {'C': 0.01},\n",
              "  {'C': 0.1},\n",
              "  {'C': 1},\n",
              "  {'C': 10},\n",
              "  {'C': 100},\n",
              "  {'C': 1000}],\n",
              " 'rank_test_score': array([7, 6, 2, 5, 3, 1, 4], dtype=int32),\n",
              " 'split0_test_score': array([0.73254565, 0.86305048, 0.85338346, 0.85338346, 0.86251343,\n",
              "        0.86278195, 0.8622449 ]),\n",
              " 'split0_train_score': array([0.74691806, 0.86100477, 0.86962241, 0.87235442, 0.87294467,\n",
              "        0.8739228 , 0.87338314]),\n",
              " 'split1_test_score': array([0.65574651, 0.78625134, 0.80692803, 0.81498389, 0.82116004,\n",
              "        0.82062299, 0.82116004]),\n",
              " 'split1_train_score': array([0.75971803, 0.87159553, 0.88257416, 0.88631803, 0.88829114,\n",
              "        0.8885947 , 0.88893199]),\n",
              " 'split2_test_score': array([0.706     , 0.88493333, 0.88706667, 0.88253333, 0.88066667,\n",
              "        0.8796    , 0.878     ]),\n",
              " 'split2_train_score': array([0.74140931, 0.85225199, 0.86269259, 0.8693489 , 0.87100453,\n",
              "        0.87075112, 0.87095385]),\n",
              " 'split3_test_score': array([0.86911565, 0.90013605, 0.90394558, 0.89387755, 0.88843537,\n",
              "        0.88952381, 0.89006803]),\n",
              " 'split3_train_score': array([0.81657814, 0.85530474, 0.86115407, 0.86338959, 0.86439809,\n",
              "        0.86545702, 0.86544021]),\n",
              " 'split4_test_score': array([0.84598639, 0.86013605, 0.86721088, 0.86530612, 0.86394558,\n",
              "        0.86857143, 0.8644898 ]),\n",
              " 'split4_train_score': array([0.8206794 , 0.86352405, 0.87004572, 0.87375197, 0.87517229,\n",
              "        0.87576058, 0.87611356]),\n",
              " 'std_fit_time': array([0.00228199, 0.00593969, 0.00199923, 0.00112429, 0.00264848,\n",
              "        0.00111057, 0.00702885]),\n",
              " 'std_score_time': array([6.32731581e-04, 3.74565935e-04, 4.67825517e-04, 1.76113890e-04,\n",
              "        5.71646816e-05, 7.27756300e-05, 5.25009807e-04]),\n",
              " 'std_test_score': array([0.08224447, 0.03917838, 0.03318892, 0.02732576, 0.02328171,\n",
              "        0.02365811, 0.02328461]),\n",
              " 'std_train_score': array([0.03448068, 0.00674169, 0.00757421, 0.00753707, 0.00783886,\n",
              "        0.00768926, 0.00781932])}"
            ]
          },
          "metadata": {
            "tags": []
          },
          "execution_count": 85
        }
      ]
    },
    {
      "cell_type": "code",
      "metadata": {
        "id": "aZ7nDOde2jNI",
        "colab_type": "code",
        "colab": {}
      },
      "source": [
        "estimator=LogisticRegression(C=1.0, class_weight=None, dual=False,\n",
        "                                          fit_intercept=True,\n",
        "                                          intercept_scaling=1, l1_ratio=None,\n",
        "                                          max_iter=100, multi_class='auto',\n",
        "                                          n_jobs=None, penalty='l2',\n",
        "                                          random_state=None, solver='lbfgs',\n",
        "                                          tol=0.0001, verbose=0,\n",
        "                                          warm_start=False)"
      ],
      "execution_count": 83,
      "outputs": []
    },
    {
      "cell_type": "code",
      "metadata": {
        "id": "hnN9ET4nckIn",
        "colab_type": "code",
        "colab": {
          "base_uri": "https://localhost:8080/",
          "height": 52
        },
        "outputId": "9f429132-389c-40fd-ab34-9b237db26f12"
      },
      "source": [
        "estimator.fit(X_train, y_train)\n",
        "train_predictions = estimator.predict(X_train)\n",
        "train_fpr, train_tpr, threshold = roc_curve(y_train, train_predictions)\n",
        "train_score = auc(train_fpr, train_tpr)\n",
        "test_predictions = estimator.predict(X_test)\n",
        "test_fpr, test_tpr, threshold = roc_curve(y_test, test_predictions)\n",
        "test_score = auc(test_fpr, test_tpr)\n",
        "print(train_score)\n",
        "print(test_score)"
      ],
      "execution_count": 84,
      "outputs": [
        {
          "output_type": "stream",
          "text": [
            "0.8049319617864613\n",
            "0.767078488372093\n"
          ],
          "name": "stdout"
        }
      ]
    },
    {
      "cell_type": "code",
      "metadata": {
        "id": "tGGCmQk7crws",
        "colab_type": "code",
        "colab": {}
      },
      "source": [
        ""
      ],
      "execution_count": null,
      "outputs": []
    }
  ]
}